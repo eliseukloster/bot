{
 "cells": [
  {
   "cell_type": "code",
   "execution_count": 4,
   "metadata": {},
   "outputs": [],
   "source": [
    "#import\n",
    "import pyrosim.pyrosim as pyrosim"
   ]
  },
  {
   "cell_type": "code",
   "execution_count": 10,
   "metadata": {},
   "outputs": [],
   "source": [
    "L, W, H = 1,1,1\n",
    "Z = H/2\n",
    "pyrosim.Start_SDF('box.sdf')\n",
    "\n",
    "for X in range(5*L):\n",
    "    for Y in range(5*W):\n",
    "        for i in range(10):\n",
    "            pyrosim.Send_Cube(name=f'Box{i}', pos=[X,Y,Z+i*H], size=[L*0.9**i,W*0.9**i,H*0.9**i])\n",
    "\n",
    "pyrosim.End()"
   ]
  }
 ],
 "metadata": {
  "kernelspec": {
   "display_name": "base",
   "language": "python",
   "name": "python3"
  },
  "language_info": {
   "codemirror_mode": {
    "name": "ipython",
    "version": 3
   },
   "file_extension": ".py",
   "mimetype": "text/x-python",
   "name": "python",
   "nbconvert_exporter": "python",
   "pygments_lexer": "ipython3",
   "version": "3.10.8"
  },
  "orig_nbformat": 4,
  "vscode": {
   "interpreter": {
    "hash": "e88407c8d4964d745015b3e560029d94f4f424c80f4608810c3248c013af78bb"
   }
  }
 },
 "nbformat": 4,
 "nbformat_minor": 2
}
