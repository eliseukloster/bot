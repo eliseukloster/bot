{
 "cells": [
  {
   "cell_type": "code",
   "execution_count": 5,
   "metadata": {},
   "outputs": [],
   "source": [
    "#import\n",
    "import pyrosim.pyrosim as pyrosim"
   ]
  },
  {
   "cell_type": "code",
   "execution_count": 6,
   "metadata": {},
   "outputs": [],
   "source": [
    "L, W, H = 1,1,1\n",
    "X, Y, Z = 0,0,H/2"
   ]
  },
  {
   "cell_type": "code",
   "execution_count": 7,
   "metadata": {},
   "outputs": [],
   "source": [
    "def Create_World():\n",
    "    pyrosim.Start_SDF('world.sdf')\n",
    "    pyrosim.Send_Cube(name=f'Caixa', pos=[X-5,Y-5,Z], size=[L,W,H])\n",
    "    pyrosim.End()\n",
    "def Create_Robot2(xtorso, ytorso, ztorso):\n",
    "    pyrosim.Start_URDF('body.urdf')\n",
    "    pyrosim.Send_Cube(name=f'Torso', pos=[xtorso, ytorso, ztorso], size=[L,W,H])\n",
    "    pyrosim.Send_Joint( name = \"Torso_FrontLeg\",\n",
    "                        parent= \"Torso\",\n",
    "                        child = \"FrontLeg\",\n",
    "                        type = \"revolute\",\n",
    "                        position = [xtorso+L/2, ytorso, ztorso-H/2]\n",
    "                        )\n",
    "    pyrosim.Send_Cube(name=f'FrontLeg', pos=[L/2,0,-H/2], size=[L,W,H])\n",
    "    pyrosim.Send_Joint( name = \"Torso_BackLeg\",\n",
    "                        parent= \"Torso\",\n",
    "                        child = \"BackLeg\",\n",
    "                        type = \"revolute\",\n",
    "                        position = [xtorso-L/2, ytorso, ztorso-H/2]\n",
    "                        )\n",
    "    pyrosim.Send_Cube(name=f'BackLeg', pos=[-L/2,0,-H/2], size=[L,W,H])\n",
    "    pyrosim.End()"
   ]
  },
  {
   "cell_type": "code",
   "execution_count": 8,
   "metadata": {},
   "outputs": [],
   "source": [
    "Create_World()\n",
    "Create_Robot2(1.5, 0, 1.5)"
   ]
  }
 ],
 "metadata": {
  "kernelspec": {
   "display_name": "base",
   "language": "python",
   "name": "python3"
  },
  "language_info": {
   "codemirror_mode": {
    "name": "ipython",
    "version": 3
   },
   "file_extension": ".py",
   "mimetype": "text/x-python",
   "name": "python",
   "nbconvert_exporter": "python",
   "pygments_lexer": "ipython3",
   "version": "3.10.8"
  },
  "orig_nbformat": 4,
  "vscode": {
   "interpreter": {
    "hash": "e88407c8d4964d745015b3e560029d94f4f424c80f4608810c3248c013af78bb"
   }
  }
 },
 "nbformat": 4,
 "nbformat_minor": 2
}
