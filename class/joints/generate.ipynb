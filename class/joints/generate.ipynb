{
 "cells": [
  {
   "cell_type": "code",
   "execution_count": 1,
   "metadata": {},
   "outputs": [
    {
     "name": "stderr",
     "output_type": "stream",
     "text": [
      "pybullet build time: Jan 28 2022 20:13:23\n"
     ]
    }
   ],
   "source": [
    "#import\n",
    "import pyrosim.pyrosim as pyrosim"
   ]
  },
  {
   "cell_type": "code",
   "execution_count": 2,
   "metadata": {},
   "outputs": [],
   "source": [
    "L, W, H = 1,1,1\n",
    "X, Y, Z = 0,0,H/2"
   ]
  },
  {
   "cell_type": "code",
   "execution_count": 21,
   "metadata": {},
   "outputs": [],
   "source": [
    "def Create_World():\n",
    "    pyrosim.Start_SDF('world.sdf')\n",
    "    pyrosim.Send_Cube(name=f'Caixa', pos=[X-5,Y-5,Z], size=[L,W,H])\n",
    "    pyrosim.End()\n",
    "def Create_Robot0():\n",
    "    pyrosim.Start_URDF('body.urdf')\n",
    "    pyrosim.Send_Cube(name=f'Link0', pos=[X,Y,Z], size=[L,W,H])\n",
    "    pyrosim.Send_Joint( name = \"Link0_Link1\",\n",
    "                        parent= \"Link0\",\n",
    "                        child = \"Link1\",\n",
    "                        type = \"revolute\",\n",
    "                        position = [X+L/2,Y,Z+H/2]\n",
    "                        )\n",
    "    pyrosim.Send_Cube(name=f'Link1', pos=[L/2,0,H/2], size=[L,W,H])\n",
    "    pyrosim.End()\n",
    "def Create_Robot1():\n",
    "    pyrosim.Start_URDF('body.urdf')\n",
    "\n",
    "    pyrosim.Send_Cube(name=f'Link0', pos=[X,Y,Z], size=[L,W,H])\n",
    "    pyrosim.Send_Joint( name = \"Link0_Link1\",\n",
    "                        parent= \"Link0\",\n",
    "                        child = \"Link1\",\n",
    "                        type = \"revolute\",\n",
    "                        position = [X,Y,Z+H/2]\n",
    "                        )\n",
    "    pyrosim.Send_Cube(name=f'Link1', pos=[0,0,H/2], size=[L,W,H])\n",
    "    pyrosim.Send_Joint( name = \"Link1_Link2\",\n",
    "                        parent= \"Link1\",\n",
    "                        child = \"Link2\",\n",
    "                        type = \"revolute\",\n",
    "                        position = [0,0,H]\n",
    "                        )\n",
    "    pyrosim.Send_Cube(name=f'Link2', pos=[0,0,H/2], size=[L,W,H])\n",
    "    pyrosim.Send_Joint( name = \"Link2_Link3\",\n",
    "                        parent= \"Link2\",\n",
    "                        child = \"Link3\",\n",
    "                        type = \"revolute\",\n",
    "                        position = [0,W/2,H/2]\n",
    "                        )\n",
    "    pyrosim.Send_Cube(name=f'Link3', pos=[0,W/2,0], size=[L,W,H])\n",
    "    pyrosim.Send_Joint( name = \"Link3_Link4\",\n",
    "                        parent= \"Link3\",\n",
    "                        child = \"Link4\",\n",
    "                        type = \"revolute\",\n",
    "                        position = [0,W,0]\n",
    "                        )\n",
    "    pyrosim.Send_Cube(name=f'Link4', pos=[0,W/2,0], size=[L,W,H])\n",
    "    pyrosim.Send_Joint( name = \"Link4_Link5\",\n",
    "                        parent= \"Link4\",\n",
    "                        child = \"Link5\",\n",
    "                        type = \"revolute\",\n",
    "                        position = [0,W/2,-H/2]\n",
    "                        )\n",
    "    pyrosim.Send_Cube(name=f'Link5', pos=[0,0,-H/2], size=[L,W,H])\n",
    "    pyrosim.Send_Joint( name = \"Link5_Link6\",\n",
    "                        parent= \"Link5\",\n",
    "                        child = \"Link6\",\n",
    "                        type = \"revolute\",\n",
    "                        position = [0,0,-H]\n",
    "                        )\n",
    "    pyrosim.Send_Cube(name=f'Link6', pos=[0,0,-H/2], size=[L,W,H])\n",
    "    pyrosim.End()\n",
    "def Create_Robot2(xtorso, ytorso, ztorso):\n",
    "    pyrosim.Start_URDF('body.urdf')\n",
    "    pyrosim.Send_Cube(name=f'Torso', pos=[xtorso, ytorso, ztorso], size=[L,W,H])\n",
    "    pyrosim.Send_Joint( name = \"Torso_FrontLeg\",\n",
    "                        parent= \"Torso\",\n",
    "                        child = \"FrontLeg\",\n",
    "                        type = \"revolute\",\n",
    "                        position = [xtorso+L/2, ytorso, ztorso-H/2]\n",
    "                        )\n",
    "    pyrosim.Send_Cube(name=f'FrontLeg', pos=[L/2,0,-H/2], size=[L,W,H])\n",
    "    pyrosim.Send_Joint( name = \"Torso_BacktLeg\",\n",
    "                        parent= \"Torso\",\n",
    "                        child = \"BackLeg\",\n",
    "                        type = \"revolute\",\n",
    "                        position = [xtorso-L/2, ytorso, ztorso-H/2]\n",
    "                        )\n",
    "    pyrosim.Send_Cube(name=f'BackLeg', pos=[-L/2,0,-H/2], size=[L,W,H])\n",
    "    pyrosim.End()"
   ]
  },
  {
   "cell_type": "code",
   "execution_count": 20,
   "metadata": {},
   "outputs": [],
   "source": [
    "Create_World()\n",
    "Create_Robot2(1.5, 0, 1.5)"
   ]
  }
 ],
 "metadata": {
  "kernelspec": {
   "display_name": "base",
   "language": "python",
   "name": "python3"
  },
  "language_info": {
   "codemirror_mode": {
    "name": "ipython",
    "version": 3
   },
   "file_extension": ".py",
   "mimetype": "text/x-python",
   "name": "python",
   "nbconvert_exporter": "python",
   "pygments_lexer": "ipython3",
   "version": "3.10.8"
  },
  "orig_nbformat": 4,
  "vscode": {
   "interpreter": {
    "hash": "e88407c8d4964d745015b3e560029d94f4f424c80f4608810c3248c013af78bb"
   }
  }
 },
 "nbformat": 4,
 "nbformat_minor": 2
}
