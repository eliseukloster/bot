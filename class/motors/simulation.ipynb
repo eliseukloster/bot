{
 "cells": [
  {
   "cell_type": "code",
   "execution_count": 15,
   "metadata": {},
   "outputs": [],
   "source": [
    "#import!\n",
    "from IPython.utils import io\n",
    "import pybullet as p\n",
    "import pybullet_data\n",
    "from time import sleep\n",
    "import pyrosim.pyrosim as pyrosim\n",
    "import numpy as np\n",
    "import random\n",
    "import math"
   ]
  },
  {
   "cell_type": "code",
   "execution_count": 2,
   "metadata": {},
   "outputs": [],
   "source": [
    "import os\n",
    "def npsave(name, data):\n",
    "    i=1\n",
    "    while(os.path.exists(f'{name}{i}.npy')): i+=1\n",
    "    np.save(f'{name}{i}', data)\n",
    "    print(f'Numpy ndarray saved: {name}{i}.npy')"
   ]
  },
  {
   "cell_type": "code",
   "execution_count": 48,
   "metadata": {},
   "outputs": [
    {
     "name": "stdout",
     "output_type": "stream",
     "text": [
      "startThreads creating 1 threads.\n",
      "starting thread 0\n",
      "started thread 0 \n",
      "argc=2\n",
      "argv[0] = --unused\n",
      "argv[1] = --start_demo_name=Physics Server\n",
      "ExampleBrowserThreadFunc started\n",
      "X11 functions dynamically loaded using dlopen/dlsym OK!\n",
      "X11 functions dynamically loaded using dlopen/dlsym OK!\n",
      "Creating context\n",
      "Created GL 3.3 context\n",
      "Direct GLX rendering context obtained\n",
      "Making context current\n",
      "GL_VENDOR=Microsoft Corporation\n",
      "GL_RENDERER=D3D12 (NVIDIA GeForce RTX 2060)\n",
      "GL_VERSION=3.3 (Core Profile) Mesa 21.0.3\n",
      "GL_SHADING_LANGUAGE_VERSION=3.30\n",
      "pthread_getconcurrency()=0\n",
      "Version = 3.3 (Core Profile) Mesa 21.0.3\n",
      "Vendor = Microsoft Corporation\n",
      "Renderer = D3D12 (NVIDIA GeForce RTX 2060)\n",
      "b3Printf: Selected demo: Physics Server\n",
      "startThreads creating 1 threads.\n",
      "starting thread 0\n",
      "started thread 0 \n",
      "MotionThreadFunc thread started\n"
     ]
    }
   ],
   "source": [
    "#with io.capture_output() as captured:\n",
    "physicsClient = p.connect(p.GUI)\n",
    "p.setAdditionalSearchPath(pybullet_data.getDataPath())"
   ]
  },
  {
   "cell_type": "code",
   "execution_count": 49,
   "metadata": {},
   "outputs": [
    {
     "name": "stdout",
     "output_type": "stream",
     "text": [
      "b3Printf: b3Warning[examples/Importers/ImportURDFDemo/BulletUrdfImporter.cpp,126]:\n",
      "\n",
      "b3Printf: expected a world element, continuing without it.\n"
     ]
    }
   ],
   "source": [
    "iterations = 1000\n",
    "\n",
    "p.setGravity(0,0,-9.80665)\n",
    "p.loadSDF(\"world.sdf\")\n",
    "plane = p.loadURDF(\"plane.urdf\")\n",
    "robot = p.loadURDF(\"body.urdf\")\n",
    "backLegSensorValues = np.zeros(iterations)\n",
    "frontLegSensorValues = np.zeros(iterations)"
   ]
  },
  {
   "cell_type": "code",
   "execution_count": 45,
   "metadata": {},
   "outputs": [],
   "source": [
    "amplitude, frequency, phaseOffset = math.pi/4, 20, 0\n",
    "targetAngles = np.sin(np.linspace(0, 2*math.pi, num=iterations)*frequency + phaseOffset)*amplitude"
   ]
  },
  {
   "cell_type": "code",
   "execution_count": 51,
   "metadata": {},
   "outputs": [],
   "source": [
    "pyrosim.Prepare_To_Simulate(robot)\n",
    "for i in range(iterations):\n",
    "    p.stepSimulation()\n",
    "    backLegSensorValues[i] = pyrosim.Get_Touch_Sensor_Value_For_Link(\"BackLeg\")\n",
    "    frontLegSensorValues[i] = pyrosim.Get_Touch_Sensor_Value_For_Link(\"FrontLeg\")\n",
    "    # print(backLegTouch)\n",
    "    pyrosim.Set_Motor_For_Joint(bodyIndex = robot,\n",
    "                            jointName = b\"Torso_BackLeg\",\n",
    "                            controlMode = p.POSITION_CONTROL,\n",
    "                            targetPosition = targetAngles[i],\n",
    "                            maxForce = 50)\n",
    "    pyrosim.Set_Motor_For_Joint(bodyIndex = robot,\n",
    "                            jointName = b\"Torso_FrontLeg\",\n",
    "                            controlMode = p.POSITION_CONTROL,\n",
    "                            targetPosition =  0.5*targetAngles[int((i+iterations/80)%iterations)],\n",
    "                            maxForce = 50)\n",
    "    sleep(1/60)"
   ]
  },
  {
   "cell_type": "code",
   "execution_count": 52,
   "metadata": {},
   "outputs": [
    {
     "name": "stdout",
     "output_type": "stream",
     "text": [
      "numActiveThreads = 0\n",
      "stopping threads\n",
      "Thread with taskId 0 exiting\n",
      "Thread TERMINATED\n",
      "destroy semaphore\n",
      "semaphore destroyed\n",
      "destroy main semaphore\n",
      "main semaphore destroyed\n",
      "finished\n",
      "numActiveThreads = 0\n",
      "btShutDownExampleBrowser stopping threads\n",
      "Thread with taskId 0 exiting\n",
      "Thread TERMINATED\n",
      "destroy semaphore\n",
      "semaphore destroyed\n",
      "destroy main semaphore\n",
      "main semaphore destroyed\n"
     ]
    }
   ],
   "source": [
    "p.disconnect()"
   ]
  },
  {
   "cell_type": "code",
   "execution_count": null,
   "metadata": {},
   "outputs": [
    {
     "name": "stdout",
     "output_type": "stream",
     "text": [
      "Numpy ndarray saved: LegSensorValues1.npy\n"
     ]
    }
   ],
   "source": [
    "npsave('LegSensorValues', np.column_stack((backLegSensorValues, frontLegSensorValues)))"
   ]
  }
 ],
 "metadata": {
  "kernelspec": {
   "display_name": "base",
   "language": "python",
   "name": "python3"
  },
  "language_info": {
   "codemirror_mode": {
    "name": "ipython",
    "version": 3
   },
   "file_extension": ".py",
   "mimetype": "text/x-python",
   "name": "python",
   "nbconvert_exporter": "python",
   "pygments_lexer": "ipython3",
   "version": "3.10.8"
  },
  "orig_nbformat": 4,
  "vscode": {
   "interpreter": {
    "hash": "e88407c8d4964d745015b3e560029d94f4f424c80f4608810c3248c013af78bb"
   }
  }
 },
 "nbformat": 4,
 "nbformat_minor": 2
}
