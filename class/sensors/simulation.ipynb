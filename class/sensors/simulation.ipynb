{
 "cells": [
  {
   "cell_type": "code",
   "execution_count": 2,
   "metadata": {},
   "outputs": [
    {
     "name": "stderr",
     "output_type": "stream",
     "text": [
      "pybullet build time: Jan 28 2022 20:13:23\n"
     ]
    },
    {
     "ename": "ModuleNotFoundError",
     "evalue": "No module named 'pyrosim'",
     "output_type": "error",
     "traceback": [
      "\u001b[0;31m---------------------------------------------------------------------------\u001b[0m",
      "\u001b[0;31mModuleNotFoundError\u001b[0m                       Traceback (most recent call last)",
      "Cell \u001b[0;32mIn[2], line 6\u001b[0m\n\u001b[1;32m      4\u001b[0m \u001b[39mimport\u001b[39;00m \u001b[39mpybullet_data\u001b[39;00m\n\u001b[1;32m      5\u001b[0m \u001b[39mfrom\u001b[39;00m \u001b[39mtime\u001b[39;00m \u001b[39mimport\u001b[39;00m sleep\n\u001b[0;32m----> 6\u001b[0m \u001b[39mimport\u001b[39;00m \u001b[39mpyrosim\u001b[39;00m\u001b[39m.\u001b[39;00m\u001b[39mpyrosim\u001b[39;00m \u001b[39mas\u001b[39;00m \u001b[39mpyrosim\u001b[39;00m\n\u001b[1;32m      7\u001b[0m \u001b[39mimport\u001b[39;00m \u001b[39mnumpy\u001b[39;00m \u001b[39mas\u001b[39;00m \u001b[39mnp\u001b[39;00m\n",
      "\u001b[0;31mModuleNotFoundError\u001b[0m: No module named 'pyrosim'"
     ]
    }
   ],
   "source": [
    "#import!\n",
    "from IPython.utils import io\n",
    "import pybullet as p\n",
    "import pybullet_data\n",
    "from time import sleep\n",
    "import pyrosim.pyrosim as pyrosim\n",
    "import numpy as np"
   ]
  },
  {
   "cell_type": "code",
   "execution_count": null,
   "metadata": {},
   "outputs": [],
   "source": [
    "import os\n",
    "def npsave(name, data):\n",
    "    i=1\n",
    "    while(os.path.exists(f'{name}{i}.npy')): i+=1\n",
    "    np.save(f'{name}{i}', data)\n",
    "    print(f'Numpy ndarray saved: {name}{i}.npy')"
   ]
  },
  {
   "cell_type": "code",
   "execution_count": null,
   "metadata": {},
   "outputs": [
    {
     "ename": "NameError",
     "evalue": "name 'p' is not defined",
     "output_type": "error",
     "traceback": [
      "\u001b[0;31m---------------------------------------------------------------------------\u001b[0m",
      "\u001b[0;31mNameError\u001b[0m                                 Traceback (most recent call last)",
      "Cell \u001b[0;32mIn[1], line 2\u001b[0m\n\u001b[1;32m      1\u001b[0m \u001b[39m#with io.capture_output() as captured:\u001b[39;00m\n\u001b[0;32m----> 2\u001b[0m physicsClient \u001b[39m=\u001b[39m p\u001b[39m.\u001b[39mconnect(p\u001b[39m.\u001b[39mGUI)\n\u001b[1;32m      3\u001b[0m p\u001b[39m.\u001b[39msetAdditionalSearchPath(pybullet_data\u001b[39m.\u001b[39mgetDataPath())\n",
      "\u001b[0;31mNameError\u001b[0m: name 'p' is not defined"
     ]
    }
   ],
   "source": [
    "#with io.capture_output() as captured:\n",
    "physicsClient = p.connect(p.GUI)\n",
    "p.setAdditionalSearchPath(pybullet_data.getDataPath())"
   ]
  },
  {
   "cell_type": "code",
   "execution_count": null,
   "metadata": {},
   "outputs": [
    {
     "name": "stdout",
     "output_type": "stream",
     "text": [
      "b3Printf: b3Warning[examples/Importers/ImportURDFDemo/BulletUrdfImporter.cpp,126]:\n",
      "\n",
      "b3Printf: expected a world element, continuing without it.\n"
     ]
    }
   ],
   "source": [
    "iterations = 1000\n",
    "\n",
    "p.setGravity(0,0,-9.80665)\n",
    "p.loadSDF(\"world.sdf\")\n",
    "plane = p.loadURDF(\"plane.urdf\")\n",
    "robot = p.loadURDF(\"body.urdf\")\n",
    "backLegSensorValues = np.zeros(iterations)\n",
    "frontLegSensorValues = np.zeros(iterations)"
   ]
  },
  {
   "cell_type": "code",
   "execution_count": null,
   "metadata": {},
   "outputs": [],
   "source": [
    "pyrosim.Prepare_To_Simulate(robot)\n",
    "for i in range(iterations):\n",
    "    p.stepSimulation()\n",
    "    backLegSensorValues[i] = pyrosim.Get_Touch_Sensor_Value_For_Link(\"BackLeg\")\n",
    "    frontLegSensorValues[i] = pyrosim.Get_Touch_Sensor_Value_For_Link(\"FrontLeg\")\n",
    "    # print(backLegTouch)\n",
    "    sleep(1/60)"
   ]
  },
  {
   "cell_type": "code",
   "execution_count": null,
   "metadata": {},
   "outputs": [
    {
     "name": "stdout",
     "output_type": "stream",
     "text": [
      "numActiveThreads = 0\n",
      "stopping threads\n",
      "Thread with taskId 0 exiting\n",
      "Thread TERMINATED\n",
      "destroy semaphore\n",
      "semaphore destroyed\n",
      "destroy main semaphore\n",
      "main semaphore destroyed\n",
      "finished\n",
      "numActiveThreads = 0\n",
      "btShutDownExampleBrowser stopping threads\n",
      "Thread with taskId 0 exiting\n",
      "Thread TERMINATED\n",
      "destroy semaphore\n",
      "semaphore destroyed\n",
      "destroy main semaphore\n",
      "main semaphore destroyed\n"
     ]
    }
   ],
   "source": [
    "p.disconnect()"
   ]
  },
  {
   "cell_type": "code",
   "execution_count": null,
   "metadata": {},
   "outputs": [
    {
     "name": "stdout",
     "output_type": "stream",
     "text": [
      "Numpy ndarray saved: LegSensorValues1.npy\n"
     ]
    }
   ],
   "source": [
    "npsave('LegSensorValues', np.column_stack((backLegSensorValues, frontLegSensorValues)))"
   ]
  }
 ],
 "metadata": {
  "kernelspec": {
   "display_name": "base",
   "language": "python",
   "name": "python3"
  },
  "language_info": {
   "codemirror_mode": {
    "name": "ipython",
    "version": 3
   },
   "file_extension": ".py",
   "mimetype": "text/x-python",
   "name": "python",
   "nbconvert_exporter": "python",
   "pygments_lexer": "ipython3",
   "version": "3.10.8"
  },
  "orig_nbformat": 4,
  "vscode": {
   "interpreter": {
    "hash": "e88407c8d4964d745015b3e560029d94f4f424c80f4608810c3248c013af78bb"
   }
  }
 },
 "nbformat": 4,
 "nbformat_minor": 2
}
